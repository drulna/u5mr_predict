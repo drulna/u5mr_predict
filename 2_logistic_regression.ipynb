{
 "cells": [
  {
   "cell_type": "code",
   "execution_count": 10,
   "metadata": {},
   "outputs": [],
   "source": [
    "import pandas as pd\n",
    "import numpy as np\n",
    "from sklearn.linear_model import LogisticRegression"
   ]
  },
  {
   "cell_type": "code",
   "execution_count": 11,
   "metadata": {},
   "outputs": [
    {
     "name": "stdout",
     "output_type": "stream",
     "text": [
      "Total records: 72080\n"
     ]
    }
   ],
   "source": [
    "clean_data = pd.read_csv('data/clean_data.tsv', sep='\\t', encoding='utf-8')\n",
    "clean_data = clean_data.astype(str)\n",
    "print('Total records:', len(clean_data))"
   ]
  },
  {
   "cell_type": "code",
   "execution_count": 12,
   "metadata": {},
   "outputs": [
    {
     "data": {
      "text/html": [
       "<div>\n",
       "<style scoped>\n",
       "    .dataframe tbody tr th:only-of-type {\n",
       "        vertical-align: middle;\n",
       "    }\n",
       "\n",
       "    .dataframe tbody tr th {\n",
       "        vertical-align: top;\n",
       "    }\n",
       "\n",
       "    .dataframe thead th {\n",
       "        text-align: right;\n",
       "    }\n",
       "</style>\n",
       "<table border=\"1\" class=\"dataframe\">\n",
       "  <thead>\n",
       "    <tr style=\"text-align: right;\">\n",
       "      <th></th>\n",
       "      <th>URBAN-Rural status</th>\n",
       "      <th>Household wealth index in quintiles</th>\n",
       "      <th>Highest educational level</th>\n",
       "      <th>Final say on woman's health care</th>\n",
       "      <th>Unmet need for FP</th>\n",
       "      <th>Whether and when this child's pregnancy wanted</th>\n",
       "      <th>Sex of child</th>\n",
       "      <th>Current age of child in years</th>\n",
       "      <th>Age of child in months</th>\n",
       "      <th>Weight for height percentile (CDC standards)</th>\n",
       "      <th>...</th>\n",
       "      <th>Child given nothing as treatment for diarrhea</th>\n",
       "      <th>Child received oral polio 0 vaccination</th>\n",
       "      <th>Child received oral polio 1 vaccination</th>\n",
       "      <th>Child received oral polio 2 vaccination</th>\n",
       "      <th>Year child received oral polio 3 vaccination</th>\n",
       "      <th>Child received DPT (diphtheria, pertussis, tetanus) 1 vaccination</th>\n",
       "      <th>Child received DPT (diphtheria, pertussis, tetanus) 2 vaccination</th>\n",
       "      <th>Child received DPT (diphtheria, pertussis, tetanus) 3 vaccination</th>\n",
       "      <th>Child received measles (or measles containing) 1 vaccination</th>\n",
       "      <th>Child received BCG (TB) vaccination</th>\n",
       "    </tr>\n",
       "  </thead>\n",
       "  <tbody>\n",
       "    <tr>\n",
       "      <th>0</th>\n",
       "      <td>Urban</td>\n",
       "      <td>Richest</td>\n",
       "      <td>Richest</td>\n",
       "      <td>Husband/partner</td>\n",
       "      <td>Husband/partner</td>\n",
       "      <td>Husband/partner</td>\n",
       "      <td>Male</td>\n",
       "      <td>NIU</td>\n",
       "      <td>NIU</td>\n",
       "      <td>NIU</td>\n",
       "      <td>...</td>\n",
       "      <td>NIU</td>\n",
       "      <td>NIU</td>\n",
       "      <td>NIU</td>\n",
       "      <td>NIU</td>\n",
       "      <td>NIU</td>\n",
       "      <td>NIU</td>\n",
       "      <td>NIU</td>\n",
       "      <td>NIU</td>\n",
       "      <td>NIU</td>\n",
       "      <td>NIU</td>\n",
       "    </tr>\n",
       "    <tr>\n",
       "      <th>1</th>\n",
       "      <td>Urban</td>\n",
       "      <td>Richest</td>\n",
       "      <td>Richest</td>\n",
       "      <td>Husband/partner</td>\n",
       "      <td>Husband/partner</td>\n",
       "      <td>Husband/partner</td>\n",
       "      <td>Male</td>\n",
       "      <td>NIU</td>\n",
       "      <td>NIU</td>\n",
       "      <td>NIU</td>\n",
       "      <td>...</td>\n",
       "      <td>NIU</td>\n",
       "      <td>NIU</td>\n",
       "      <td>NIU</td>\n",
       "      <td>NIU</td>\n",
       "      <td>NIU</td>\n",
       "      <td>NIU</td>\n",
       "      <td>NIU</td>\n",
       "      <td>NIU</td>\n",
       "      <td>NIU</td>\n",
       "      <td>NIU</td>\n",
       "    </tr>\n",
       "    <tr>\n",
       "      <th>2</th>\n",
       "      <td>Urban</td>\n",
       "      <td>Richest</td>\n",
       "      <td>Primary</td>\n",
       "      <td>NIU</td>\n",
       "      <td>NIU</td>\n",
       "      <td>NIU</td>\n",
       "      <td>Male</td>\n",
       "      <td>NIU</td>\n",
       "      <td>NIU</td>\n",
       "      <td>NIU</td>\n",
       "      <td>...</td>\n",
       "      <td>NIU</td>\n",
       "      <td>NIU</td>\n",
       "      <td>NIU</td>\n",
       "      <td>NIU</td>\n",
       "      <td>NIU</td>\n",
       "      <td>NIU</td>\n",
       "      <td>NIU</td>\n",
       "      <td>NIU</td>\n",
       "      <td>NIU</td>\n",
       "      <td>NIU</td>\n",
       "    </tr>\n",
       "    <tr>\n",
       "      <th>3</th>\n",
       "      <td>Urban</td>\n",
       "      <td>Richest</td>\n",
       "      <td>Secondary</td>\n",
       "      <td>Secondary</td>\n",
       "      <td>Secondary</td>\n",
       "      <td>Secondary</td>\n",
       "      <td>Male</td>\n",
       "      <td>NIU</td>\n",
       "      <td>NIU</td>\n",
       "      <td>NIU</td>\n",
       "      <td>...</td>\n",
       "      <td>NIU</td>\n",
       "      <td>NIU</td>\n",
       "      <td>NIU</td>\n",
       "      <td>NIU</td>\n",
       "      <td>NIU</td>\n",
       "      <td>NIU</td>\n",
       "      <td>NIU</td>\n",
       "      <td>NIU</td>\n",
       "      <td>NIU</td>\n",
       "      <td>NIU</td>\n",
       "    </tr>\n",
       "    <tr>\n",
       "      <th>4</th>\n",
       "      <td>Urban</td>\n",
       "      <td>Richest</td>\n",
       "      <td>Richest</td>\n",
       "      <td>Husband/partner</td>\n",
       "      <td>Husband/partner</td>\n",
       "      <td>Husband/partner</td>\n",
       "      <td>Female</td>\n",
       "      <td>NIU</td>\n",
       "      <td>NIU</td>\n",
       "      <td>NIU</td>\n",
       "      <td>...</td>\n",
       "      <td>NIU</td>\n",
       "      <td>NIU</td>\n",
       "      <td>NIU</td>\n",
       "      <td>NIU</td>\n",
       "      <td>NIU</td>\n",
       "      <td>NIU</td>\n",
       "      <td>NIU</td>\n",
       "      <td>NIU</td>\n",
       "      <td>NIU</td>\n",
       "      <td>NIU</td>\n",
       "    </tr>\n",
       "  </tbody>\n",
       "</table>\n",
       "<p>5 rows × 54 columns</p>\n",
       "</div>"
      ],
      "text/plain": [
       "  URBAN-Rural status Household wealth index in quintiles  \\\n",
       "0              Urban                             Richest   \n",
       "1              Urban                             Richest   \n",
       "2              Urban                             Richest   \n",
       "3              Urban                             Richest   \n",
       "4              Urban                             Richest   \n",
       "\n",
       "  Highest educational level Final say on woman's health care  \\\n",
       "0                   Richest                  Husband/partner   \n",
       "1                   Richest                  Husband/partner   \n",
       "2                   Primary                              NIU   \n",
       "3                 Secondary                        Secondary   \n",
       "4                   Richest                  Husband/partner   \n",
       "\n",
       "  Unmet need for FP Whether and when this child's pregnancy wanted  \\\n",
       "0   Husband/partner                                Husband/partner   \n",
       "1   Husband/partner                                Husband/partner   \n",
       "2               NIU                                            NIU   \n",
       "3         Secondary                                      Secondary   \n",
       "4   Husband/partner                                Husband/partner   \n",
       "\n",
       "  Sex of child Current age of child in years Age of child in months  \\\n",
       "0         Male                           NIU                    NIU   \n",
       "1         Male                           NIU                    NIU   \n",
       "2         Male                           NIU                    NIU   \n",
       "3         Male                           NIU                    NIU   \n",
       "4       Female                           NIU                    NIU   \n",
       "\n",
       "  Weight for height percentile (CDC standards)  ...  \\\n",
       "0                                          NIU  ...   \n",
       "1                                          NIU  ...   \n",
       "2                                          NIU  ...   \n",
       "3                                          NIU  ...   \n",
       "4                                          NIU  ...   \n",
       "\n",
       "  Child given nothing as treatment for diarrhea  \\\n",
       "0                                           NIU   \n",
       "1                                           NIU   \n",
       "2                                           NIU   \n",
       "3                                           NIU   \n",
       "4                                           NIU   \n",
       "\n",
       "  Child received oral polio 0 vaccination  \\\n",
       "0                                     NIU   \n",
       "1                                     NIU   \n",
       "2                                     NIU   \n",
       "3                                     NIU   \n",
       "4                                     NIU   \n",
       "\n",
       "  Child received oral polio 1 vaccination  \\\n",
       "0                                     NIU   \n",
       "1                                     NIU   \n",
       "2                                     NIU   \n",
       "3                                     NIU   \n",
       "4                                     NIU   \n",
       "\n",
       "  Child received oral polio 2 vaccination  \\\n",
       "0                                     NIU   \n",
       "1                                     NIU   \n",
       "2                                     NIU   \n",
       "3                                     NIU   \n",
       "4                                     NIU   \n",
       "\n",
       "  Year child received oral polio 3 vaccination  \\\n",
       "0                                          NIU   \n",
       "1                                          NIU   \n",
       "2                                          NIU   \n",
       "3                                          NIU   \n",
       "4                                          NIU   \n",
       "\n",
       "  Child received DPT (diphtheria, pertussis, tetanus) 1 vaccination  \\\n",
       "0                                                NIU                  \n",
       "1                                                NIU                  \n",
       "2                                                NIU                  \n",
       "3                                                NIU                  \n",
       "4                                                NIU                  \n",
       "\n",
       "  Child received DPT (diphtheria, pertussis, tetanus) 2 vaccination  \\\n",
       "0                                                NIU                  \n",
       "1                                                NIU                  \n",
       "2                                                NIU                  \n",
       "3                                                NIU                  \n",
       "4                                                NIU                  \n",
       "\n",
       "  Child received DPT (diphtheria, pertussis, tetanus) 3 vaccination  \\\n",
       "0                                                NIU                  \n",
       "1                                                NIU                  \n",
       "2                                                NIU                  \n",
       "3                                                NIU                  \n",
       "4                                                NIU                  \n",
       "\n",
       "  Child received measles (or measles containing) 1 vaccination  \\\n",
       "0                                                NIU             \n",
       "1                                                NIU             \n",
       "2                                                NIU             \n",
       "3                                                NIU             \n",
       "4                                                NIU             \n",
       "\n",
       "  Child received BCG (TB) vaccination  \n",
       "0                                 NIU  \n",
       "1                                 NIU  \n",
       "2                                 NIU  \n",
       "3                                 NIU  \n",
       "4                                 NIU  \n",
       "\n",
       "[5 rows x 54 columns]"
      ]
     },
     "execution_count": 12,
     "metadata": {},
     "output_type": "execute_result"
    }
   ],
   "source": [
    "clean_data.head()"
   ]
  },
  {
   "cell_type": "code",
   "execution_count": 65,
   "metadata": {},
   "outputs": [],
   "source": [
    "y = np.load('data/labels.npy')"
   ]
  },
  {
   "cell_type": "code",
   "execution_count": 14,
   "metadata": {},
   "outputs": [
    {
     "name": "stdout",
     "output_type": "stream",
     "text": [
      "Total Records:  72080\n",
      "Total Variables/Attributes:  54\n"
     ]
    }
   ],
   "source": [
    "X = np.array(clean_data)\n",
    "print('Total Records: ', X.shape[0])\n",
    "print('Total Variables/Attributes: ', X.shape[1])"
   ]
  },
  {
   "cell_type": "code",
   "execution_count": 38,
   "metadata": {},
   "outputs": [],
   "source": [
    "lr_classifier = LogisticRegression(random_state = 0, solver = 'lbfgs', multi_class='multinomial')"
   ]
  },
  {
   "cell_type": "code",
   "execution_count": 16,
   "metadata": {},
   "outputs": [],
   "source": [
    "from sklearn.preprocessing import LabelEncoder\n",
    "for i in range (X.shape[1]):\n",
    "    le = LabelEncoder()\n",
    "    X[:,i] = le.fit_transform(X[:,i])\n",
    "\n"
   ]
  },
  {
   "cell_type": "code",
   "execution_count": 61,
   "metadata": {},
   "outputs": [],
   "source": [
    "le_y = LabelEncoder()\n",
    "y = le.fit_transform(y)  "
   ]
  },
  {
   "cell_type": "code",
   "execution_count": 35,
   "metadata": {},
   "outputs": [],
   "source": [
    "from sklearn.model_selection import train_test_split"
   ]
  },
  {
   "cell_type": "code",
   "execution_count": 66,
   "metadata": {},
   "outputs": [],
   "source": [
    "X_train, X_test, y_train, y_test = train_test_split(X,y, random_state=42)"
   ]
  },
  {
   "cell_type": "code",
   "execution_count": 67,
   "metadata": {},
   "outputs": [
    {
     "name": "stderr",
     "output_type": "stream",
     "text": [
      "C:\\ProgramData\\Anaconda3\\lib\\site-packages\\sklearn\\linear_model\\logistic.py:757: ConvergenceWarning: lbfgs failed to converge. Increase the number of iterations.\n",
      "  \"of iterations.\", ConvergenceWarning)\n"
     ]
    },
    {
     "data": {
      "text/plain": [
       "LogisticRegression(C=1.0, class_weight=None, dual=False, fit_intercept=True,\n",
       "          intercept_scaling=1, max_iter=100, multi_class='multinomial',\n",
       "          n_jobs=None, penalty='l2', random_state=0, solver='lbfgs',\n",
       "          tol=0.0001, verbose=0, warm_start=False)"
      ]
     },
     "execution_count": 67,
     "metadata": {},
     "output_type": "execute_result"
    }
   ],
   "source": [
    "lr_classifier.fit(X_train,y_train)"
   ]
  },
  {
   "cell_type": "code",
   "execution_count": 68,
   "metadata": {},
   "outputs": [
    {
     "name": "stdout",
     "output_type": "stream",
     "text": [
      "Testing Accuracy:  0.5077136514983351\n"
     ]
    }
   ],
   "source": [
    "print('Testing Accuracy: ',lr_classifier.score(X_test, y_test))"
   ]
  },
  {
   "cell_type": "code",
   "execution_count": 69,
   "metadata": {},
   "outputs": [],
   "source": [
    "predicted_y = lr_classifier.predict(X_test)"
   ]
  },
  {
   "cell_type": "code",
   "execution_count": 73,
   "metadata": {},
   "outputs": [
    {
     "name": "stdout",
     "output_type": "stream",
     "text": [
      "F1-score Macro Average:  0.027777361562862073\n",
      "F1-score Micro Average:  0.5077136514983351\n",
      "F1-score Weighted Average:  0.38828464978477867\n"
     ]
    },
    {
     "name": "stderr",
     "output_type": "stream",
     "text": [
      "C:\\ProgramData\\Anaconda3\\lib\\site-packages\\sklearn\\metrics\\classification.py:1143: UndefinedMetricWarning: F-score is ill-defined and being set to 0.0 in labels with no predicted samples.\n",
      "  'precision', 'predicted', average, warn_for)\n"
     ]
    }
   ],
   "source": [
    "from sklearn.metrics import f1_score, classification_report, confusion_matrix\n",
    "print('F1-score Macro Average: ', f1_score(y_test, predicted_y, average='macro'))\n",
    "print('F1-score Micro Average: ', f1_score(y_test, predicted_y, average='micro'))\n",
    "print('F1-score Weighted Average: ', f1_score(y_test, predicted_y, average='weighted'))\n",
    "\n",
    "\n"
   ]
  },
  {
   "cell_type": "code",
   "execution_count": 71,
   "metadata": {
    "scrolled": true
   },
   "outputs": [
    {
     "name": "stderr",
     "output_type": "stream",
     "text": [
      "C:\\ProgramData\\Anaconda3\\lib\\site-packages\\sklearn\\metrics\\classification.py:1143: UndefinedMetricWarning: Precision and F-score are ill-defined and being set to 0.0 in labels with no predicted samples.\n",
      "  'precision', 'predicted', average, warn_for)\n"
     ]
    },
    {
     "name": "stdout",
     "output_type": "stream",
     "text": [
      "              precision    recall  f1-score   support\n",
      "\n",
      "           0       0.61      0.99      0.75      8392\n",
      "           1       0.21      0.42      0.28      1017\n",
      "          10       0.00      0.00      0.00       244\n",
      "          11       0.00      0.00      0.00       240\n",
      "          12       0.16      0.29      0.20       947\n",
      "          13       0.00      0.00      0.00       194\n",
      "          14       0.00      0.00      0.00       155\n",
      "          15       0.00      0.00      0.00       115\n",
      "          16       0.00      0.00      0.00        92\n",
      "          17       0.00      0.00      0.00        71\n",
      "          18       0.00      0.00      0.00       250\n",
      "          19       0.00      0.00      0.00        50\n",
      "           2       0.00      0.00      0.00       767\n",
      "          20       0.00      0.00      0.00        66\n",
      "          21       0.00      0.00      0.00        25\n",
      "          22       0.00      0.00      0.00        36\n",
      "          23       0.00      0.00      0.00        35\n",
      "          24       0.22      0.13      0.16       966\n",
      "          25       0.00      0.00      0.00        14\n",
      "          26       0.00      0.00      0.00        19\n",
      "          27       0.00      0.00      0.00         5\n",
      "          28       0.00      0.00      0.00        11\n",
      "          29       0.00      0.00      0.00         3\n",
      "           3       0.45      0.02      0.04       733\n",
      "          30       0.00      0.00      0.00        12\n",
      "          31       0.00      0.00      0.00         2\n",
      "          32       0.00      0.00      0.00         2\n",
      "          33       0.00      0.00      0.00         2\n",
      "          34       0.00      0.00      0.00         1\n",
      "          35       0.00      0.00      0.00         2\n",
      "          36       0.00      0.00      0.00       412\n",
      "          37       0.00      0.00      0.00         4\n",
      "          39       0.00      0.00      0.00         1\n",
      "           4       0.00      0.00      0.00       560\n",
      "          40       0.00      0.00      0.00         2\n",
      "          43       0.00      0.00      0.00         3\n",
      "          46       0.00      0.00      0.00         1\n",
      "          47       0.00      0.00      0.00         3\n",
      "          48       0.00      0.00      0.00       114\n",
      "          49       0.00      0.00      0.00         3\n",
      "           5       0.00      0.00      0.00       418\n",
      "          50       0.00      0.00      0.00         1\n",
      "          51       0.00      0.00      0.00         1\n",
      "          52       0.00      0.00      0.00         1\n",
      "          53       0.00      0.00      0.00         1\n",
      "          54       0.00      0.00      0.00         1\n",
      "          57       0.00      0.00      0.00         1\n",
      "          59       0.00      0.00      0.00         1\n",
      "           6       0.00      0.00      0.00       651\n",
      "           7       0.00      0.00      0.00       449\n",
      "           8       0.00      0.00      0.00       457\n",
      "           9       0.00      0.00      0.00       467\n",
      "\n",
      "   micro avg       0.51      0.51      0.51     18020\n",
      "   macro avg       0.03      0.04      0.03     18020\n",
      "weighted avg       0.33      0.51      0.39     18020\n",
      "\n"
     ]
    }
   ],
   "source": [
    "print(classification_report(y_test, predicted_y))"
   ]
  },
  {
   "cell_type": "markdown",
   "metadata": {},
   "source": [
    "# ROC Curve and AUC cannot be calculated on multi-class or regression problems. So it is necessary to binarize the output"
   ]
  },
  {
   "cell_type": "code",
   "execution_count": 75,
   "metadata": {},
   "outputs": [],
   "source": [
    "cm = confusion_matrix(y_test, predicted_y)"
   ]
  },
  {
   "cell_type": "code",
   "execution_count": 84,
   "metadata": {},
   "outputs": [],
   "source": [
    "fp = cm.sum(axis=0) - np.diag(cm)\n",
    "fn = cm.sum(axis=1) - np.diag(cm)\n",
    "tp = np.diag(cm)\n",
    "tn = cm.sum() - (fp + fn + tp)"
   ]
  },
  {
   "cell_type": "code",
   "execution_count": 88,
   "metadata": {},
   "outputs": [],
   "source": [
    "# Recall, Sensitivity, Hit Rate, TPR\n",
    "\n",
    "tpr = tp/(tp+fn)"
   ]
  },
  {
   "cell_type": "code",
   "execution_count": 90,
   "metadata": {},
   "outputs": [
    {
     "name": "stdout",
     "output_type": "stream",
     "text": [
      "TPR/Sensitivity for each class [0.99010963 0.41691249 0.         0.         0.28827878 0.\n",
      " 0.         0.         0.         0.         0.         0.\n",
      " 0.         0.         0.         0.         0.         0.13043478\n",
      " 0.         0.         0.         0.         0.         0.02319236\n",
      " 0.         0.         0.         0.         0.         0.\n",
      " 0.         0.         0.         0.         0.         0.\n",
      " 0.         0.         0.         0.         0.         0.\n",
      " 0.         0.         0.         0.         0.         0.\n",
      " 0.         0.         0.         0.        ]\n"
     ]
    }
   ],
   "source": [
    "print('TPR/Sensitivity for each class', tpr)"
   ]
  },
  {
   "cell_type": "code",
   "execution_count": 91,
   "metadata": {},
   "outputs": [],
   "source": [
    "# Specifitivity, TNR\n",
    "\n",
    "tnr = tn/(tn+fp)"
   ]
  },
  {
   "cell_type": "code",
   "execution_count": 92,
   "metadata": {},
   "outputs": [
    {
     "name": "stdout",
     "output_type": "stream",
     "text": [
      "TNR/Specifitivity [0.44640631 0.90642828 1.         1.         0.91360628 1.\n",
      " 1.         1.         1.         1.         0.99994373 1.\n",
      " 0.99965223 1.         1.         1.         1.         0.97378914\n",
      " 1.         1.         1.         1.         1.         0.99878521\n",
      " 1.         1.         1.         1.         1.         1.\n",
      " 1.         1.         1.         1.         1.         1.\n",
      " 1.         1.         1.         1.         1.         1.\n",
      " 1.         1.         1.         1.         1.         1.\n",
      " 1.         1.         1.         1.        ]\n"
     ]
    }
   ],
   "source": [
    "print('TNR/Specifitivity', tnr)"
   ]
  },
  {
   "cell_type": "code",
   "execution_count": null,
   "metadata": {},
   "outputs": [],
   "source": []
  }
 ],
 "metadata": {
  "kernelspec": {
   "display_name": "Python 3",
   "language": "python",
   "name": "python3"
  },
  "language_info": {
   "codemirror_mode": {
    "name": "ipython",
    "version": 3
   },
   "file_extension": ".py",
   "mimetype": "text/x-python",
   "name": "python",
   "nbconvert_exporter": "python",
   "pygments_lexer": "ipython3",
   "version": "3.7.3"
  }
 },
 "nbformat": 4,
 "nbformat_minor": 2
}
